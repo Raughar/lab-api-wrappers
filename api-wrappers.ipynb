{
 "cells": [
  {
   "cell_type": "code",
   "execution_count": 1,
   "metadata": {},
   "outputs": [],
   "source": [
    "#Importing Libraries\n",
    "\n",
    "import pandas as pd\n",
    "import time\n",
    "import spotipy\n",
    "from spotipy.oauth2 import SpotifyClientCredentials\n",
    "import warnings\n",
    "warnings.filterwarnings(\"ignore\")"
   ]
  },
  {
   "cell_type": "code",
   "execution_count": 2,
   "metadata": {},
   "outputs": [],
   "source": [
    "#Setting up the credentials por the SPotify API\n",
    "client_id = '65565519ecf9474c922af35a2a8ffb3b'\n",
    "client_secret = 'afca54020ac144a1be9865ba5abde179'\n",
    "client_credentials_manager = SpotifyClientCredentials(client_id, client_secret)\n",
    "sp = spotipy.Spotify(client_credentials_manager=client_credentials_manager)"
   ]
  },
  {
   "cell_type": "code",
   "execution_count": 3,
   "metadata": {},
   "outputs": [],
   "source": [
    "#Function to get the artist id from the artist name\n",
    "def get_artist_id(artist):\n",
    "    try:\n",
    "        artist_results = sp.search(q='artist:' + artist, type='artist')\n",
    "        return artist_results['artists']['items'][0]['id']\n",
    "    except:\n",
    "        return None\n",
    "    \n",
    "#Function to get the track id from all the artist tracks\n",
    "def get_artist_tracks(artist_id):\n",
    "    try:\n",
    "        tracks = sp.artist_top_tracks(artist_id)\n",
    "        return [track['id'] for track in tracks['tracks']]\n",
    "    except:\n",
    "        return None\n",
    "    \n",
    "#Function to get the playlist id from the playlist name\n",
    "def get_playlist_id(playlist_name):\n",
    "    try:\n",
    "        playlist_results = sp.search(q=playlist_name, type='playlist')\n",
    "        return playlist_results['playlists']['items'][0]['id']\n",
    "    except:\n",
    "        return None\n",
    "    \n",
    "#Function to get the track ID from the playlist\n",
    "def get_playlist_tracks(playlist_id):\n",
    "    try:\n",
    "        playlist = sp.playlist_tracks(playlist_id)\n",
    "        return [track['track']['id'] for track in playlist['items']]\n",
    "    except:\n",
    "        return None\n",
    "    \n",
    "#Function to get the name, artist and audio features from the track\n",
    "def get_track_features(track_id):\n",
    "    try:\n",
    "        track = sp.track(track_id)\n",
    "        features = sp.audio_features(track_id)\n",
    "        return {\n",
    "            'name': track['name'],\n",
    "            'artist': track['artists'][0]['name'],\n",
    "            'acousticness': features[0]['acousticness'],\n",
    "            'analysis_url': features[0]['analysis_url'],\n",
    "            'danceability': features[0]['danceability'],\n",
    "            'duration_ms': features[0]['duration_ms'],\n",
    "            'energy': features[0]['energy'],\n",
    "            'id': features[0]['id'],\n",
    "            'instrumentalness': features[0]['instrumentalness'],\n",
    "            'key': features[0]['key'],\n",
    "            'liveness': features[0]['liveness'],\n",
    "            'loudness': features[0]['loudness'],\n",
    "            'mode': features[0]['mode'],\n",
    "            'speechiness': features[0]['speechiness'],\n",
    "            'tempo': features[0]['tempo'],\n",
    "            'time_signature': features[0]['time_signature'],\n",
    "            'track_href': features[0]['track_href'],\n",
    "            'type': features[0]['type'],\n",
    "            'uri': features[0]['uri'],\n",
    "            'valence': features[0]['valence']\n",
    "        }\n",
    "    except:\n",
    "        return None\n",
    "    \n",
    "#Function to get the albums from an artist\n",
    "def get_artist_albums(artist_id):\n",
    "    try:\n",
    "        albums = sp.artist_albums(artist_id)\n",
    "        return [album['id'] for album in albums['items']]\n",
    "    except:\n",
    "        return None\n",
    "    \n",
    "#Function to get the tracks from an album\n",
    "def get_album_tracks(album_id):\n",
    "    try:\n",
    "        tracks = sp.album_tracks(album_id)\n",
    "        return [track['id'] for track in tracks['items']]\n",
    "    except:\n",
    "        return None"
   ]
  },
  {
   "cell_type": "code",
   "execution_count": null,
   "metadata": {},
   "outputs": [],
   "source": [
    "#Getting the track features of the top 50 global playlist\n",
    "Playlist = 'Top 50 - Global'\n",
    "playlist_id = get_playlist_id(Playlist)\n",
    "playlist_tracks = get_playlist_tracks(playlist_id)\n",
    "\n",
    "\n",
    "audio_features = []\n",
    "for track in playlist_tracks:\n",
    "    audio_features.append(get_track_features(track))"
   ]
  },
  {
   "cell_type": "code",
   "execution_count": null,
   "metadata": {},
   "outputs": [],
   "source": [
    "#Creating a dataframe\n",
    "track_data = pd.DataFrame(audio_features)"
   ]
  }
 ],
 "metadata": {
  "kernelspec": {
   "display_name": "base",
   "language": "python",
   "name": "python3"
  },
  "language_info": {
   "codemirror_mode": {
    "name": "ipython",
    "version": 3
   },
   "file_extension": ".py",
   "mimetype": "text/x-python",
   "name": "python",
   "nbconvert_exporter": "python",
   "pygments_lexer": "ipython3",
   "version": "3.11.5"
  }
 },
 "nbformat": 4,
 "nbformat_minor": 2
}
